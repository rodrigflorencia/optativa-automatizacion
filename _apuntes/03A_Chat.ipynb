{
 "cells": [
  {
   "cell_type": "markdown",
   "id": "082cb8a5",
   "metadata": {},
   "source": [
    "## Chatbot con OpenAI API\n",
    "\n",
    "Imagina que tienes una plataforma educativa con múltiples cursos. Cada día recibes decenas de preguntas repetidas de los estudiantes:\n",
    "\n",
    "❓ \"¿Qué cursos de programación ofrecen?\"\n",
    "\n",
    "❓ \"¿Cómo puedo acceder a las clases grabadas?\"\n",
    "\n",
    "❓ \"¿Qué nivel de conocimiento necesito para el curso de Python?\"\n",
    "\n",
    "Tú o tu equipo educativo dedican horas cada semana a contestar las mismas preguntas. ¿Y si tuvieras un asistente virtual que pudiera responder al instante, 24/7, con información precisa y actualizada sobre los cursos?\n",
    "\n",
    "En esta parte de la clase vamos a ver cómo construir un sistema inteligente de forma básica que responde preguntas automáticamente, combinando dos ideas poderosas:\n",
    "\n",
    "🔹 Chatbots: interfaces conversacionales que entienden lenguaje natural.\n",
    "\n",
    "🔹 RAG (Retrieval-Augmented Generation): un enfoque moderno que permite que los modelos generativos como ChatGPT respondan con información extraída de tus propios documentos o base de conocimiento.\n",
    "\n",
    "Para lograr esto, crearemos una pequeña \"base de conocimiento\" con contenido educativo y la conectaremos a un modelo de lenguaje con capacidad de razonamiento. Así el chatbot no inventará respuestas, sino que buscará primero información relevante y luego generará una respuesta basada en ese contenido.\n",
    "\n",
    "Es como tener un asistente educativo virtual que conoce todos los cursos y puede guiar a los estudiantes de manera efectiva."
   ]
  },
  {
   "cell_type": "code",
   "execution_count": null,
   "id": "dba7f109",
   "metadata": {},
   "outputs": [],
   "source": [
    "%pip install openai faiss-cpu tiktoken python-dotenv scikit-learn --quiet"
   ]
  },
  {
   "cell_type": "code",
   "execution_count": 2,
   "id": "24169624",
   "metadata": {},
   "outputs": [],
   "source": [
    "import os\n",
    "os.environ[\"OPEN_AI_KEY\"] = \"sk-proj-Sx...VoA\""
   ]
  },
  {
   "cell_type": "code",
   "execution_count": null,
   "id": "bfd80bf1",
   "metadata": {},
   "outputs": [
    {
     "name": "stdout",
     "output_type": "stream",
     "text": [
      "Índice FAISS creado con éxito. Número de documentos indexados: 5\n"
     ]
    },
    {
     "data": {
      "text/markdown": [
       "**Estudiante:** Hola, ¿qué cursos tienen disponibles?"
      ],
      "text/plain": [
       "<IPython.core.display.Markdown object>"
      ]
     },
     "metadata": {},
     "output_type": "display_data"
    },
    {
     "data": {
      "text/markdown": [
       "**Chatbot:** Actualmente ofrecemos los siguientes cursos de programación:\n",
       "- Introducción a Python (Nivel Básico)\n",
       "- Machine Learning con Scikit-learn (Intermedio)\n",
       "- Desarrollo Web con Django (Avanzado)\n",
       "- Análisis de Datos con Pandas (Intermedio)\n",
       "- Fundamentos de JavaScript (Básico)\n",
       "- Desarrollo de Aplicaciones Móviles (Avanzado)"
      ],
      "text/plain": [
       "<IPython.core.display.Markdown object>"
      ]
     },
     "metadata": {},
     "output_type": "display_data"
    },
    {
     "data": {
      "text/markdown": [
       "**Estudiante:** ¿Qué necesito para el curso de Python?"
      ],
      "text/plain": [
       "<IPython.core.display.Markdown object>"
      ]
     },
     "metadata": {},
     "output_type": "display_data"
    },
    {
     "data": {
      "text/markdown": [
       "**Chatbot:** Para el curso de Introducción a Python solo necesitas tener conocimientos básicos de informática y muchas ganas de aprender. No se requiere experiencia previa en programación. Te recomendamos tener instalado Python 3.8 o superior en tu computadora."
      ],
      "text/plain": [
       "<IPython.core.display.Markdown object>"
      ]
     },
     "metadata": {},
     "output_type": "display_data"
    },
    {
     "data": {
      "text/markdown": [
       "**Estudiante:** ¿Hay clases en vivo o todo es grabado?"
      ],
      "text/plain": [
       "<IPython.core.display.Markdown object>"
      ]
     },
     "metadata": {},
     "output_type": "display_data"
    },
    {
     "data": {
      "text/markdown": [
       "**Chatbot:** Nuestros cursos incluyen tanto clases en vivo como material grabado. Las clases en vivo se realizan dos veces por semana y quedan grabadas para que puedas verlas después. También tendrás acceso a ejercicios prácticos, foros de discusión y soporte de instructores."
      ],
      "text/plain": [
       "<IPython.core.display.Markdown object>"
      ]
     },
     "metadata": {},
     "output_type": "display_data"
    }
   ],
   "source": [
    "from IPython.display import Markdown\n",
    "from openai import OpenAI\n",
    "import os\n",
    "\n",
    "api_key = os.getenv('OPEN_AI_KEY')\n",
    "client = OpenAI(api_key=api_key)\n",
    "\n",
    "documentos = [\n",
    "    {\n",
    "        \"id\": \"faq_cursos_disponibles\",\n",
    "        \"texto\": \"\"\"¿Qué cursos de programación ofrecen?\n",
    "          Actualmente ofrecemos los siguientes cursos:\n",
    "          - Introducción a Python (Nivel Básico)\n",
    "          - Machine Learning con Scikit-learn (Intermedio)\n",
    "          - Desarrollo Web con Django (Avanzado)\n",
    "          - Análisis de Datos con Pandas (Intermedio)\n",
    "          - Fundamentos de JavaScript (Básico)\n",
    "          - Desarrollo de Aplicaciones Móviles (Avanzado)\"\"\"\n",
    "    },\n",
    "    {\n",
    "        \"id\": \"faq_acceso_clases\",\n",
    "        \"texto\": \"\"\"¿Cómo puedo acceder a las clases grabadas?\n",
    "Una vez que te inscribas en un curso, tendrás acceso inmediato a nuestra plataforma de aprendizaje. Todas las clases grabadas están disponibles en la sección 'Mis Cursos' de tu perfil. Las grabaciones se publican 24 horas después de cada clase en vivo.\"\"\"\n",
    "    },\n",
    "    {\n",
    "        \"id\": \"faq_contacto\",\n",
    "        \"texto\": \"\"\"¿Cómo puedo contactar con atención al cliente?\n",
    "Nuestro equipo está disponible de lunes a viernes, de 9:00 a 18:00.\n",
    "Puedes escribirnos a soporte@miempresa.com o enviarnos un mensaje directo por Instagram (@miempresa).\"\"\"\n",
    "    },\n",
    "    {\n",
    "        \"id\": \"faq_requisitos_tecnicos\",\n",
    "        \"texto\": \"\"\"¿Qué necesito para el curso de Python?\n",
    "Para el curso de Introducción a Python solo necesitas tener conocimientos básicos de informática y muchas ganas de aprender. No se requiere experiencia previa en programación. Te recomendamos tener instalado Python 3.8 o superior en tu computadora.\"\"\"\n",
    "    },\n",
    "    {\n",
    "        \"id\": \"faq_clases_en_vivo\",\n",
    "        \"texto\": \"\"\"¿Hay clases en vivo o todo es grabado?\n",
    "Nuestros cursos incluyen tanto clases en vivo como material grabado. Las clases en vivo se realizan dos veces por semana y quedan grabadas para que puedas verlas después. También tendrás acceso a ejercicios prácticos, foros de discusión y soporte de instructores.\"\"\"\n",
    "    }\n",
    "]\n",
    "\n",
    "from sklearn.feature_extraction.text import TfidfVectorizer\n",
    "import numpy as np\n",
    "import faiss\n",
    "\n",
    "# Extraer los textos de la lista de documentos\n",
    "corpus = [doc[\"texto\"] for doc in documentos]\n",
    "\n",
    "# Vectorizar con TF-IDF\n",
    "vectorizer = TfidfVectorizer()\n",
    "doc_vectors = vectorizer.fit_transform(corpus).toarray()\n",
    "\n",
    "# Crear el índice FAISS\n",
    "index = faiss.IndexFlatL2(doc_vectors.shape[1])\n",
    "index.add(np.array(doc_vectors).astype('float32'))\n",
    "\n",
    "# print(\"Índice FAISS creado con éxito. Número de documentos indexados:\", index.ntotal)\n",
    "\n",
    "def recuperar_contexto(pregunta, k=1):\n",
    "    pregunta_vec = vectorizer.transform([pregunta]).toarray().astype('float32')\n",
    "    D, I = index.search(pregunta_vec, k)\n",
    "    textos = [corpus[i] for i in I[0]]\n",
    "    return \"\\n\\n\".join(textos)\n",
    "\n",
    "def generar_respuesta(pregunta):\n",
    "    contexto = recuperar_contexto(pregunta)\n",
    "\n",
    "    prompt = f\"\"\"\n",
    "      Eres un chatbot de asistencia para una plataforma educativa\n",
    "      para responder preguntas frecuentes.\n",
    "      Responde a la siguiente pregunta\n",
    "      utilizando el contexto proporcionado si es relevante.\n",
    "      Si no tienes contexto suficiente, dame una respuesta que sea válida.\n",
    "\n",
    "      Contexto:\n",
    "      {contexto}\n",
    "\n",
    "      Pregunta: {pregunta}\n",
    "      Respuesta:\n",
    "    \"\"\"\n",
    "\n",
    "    respuesta = client.chat.completions.create(\n",
    "        model=\"gpt-4\",\n",
    "        messages=[{\"role\": \"user\", \"content\": prompt}],\n",
    "        temperature=0.3\n",
    "    )\n",
    "\n",
    "    return respuesta.choices[0].message.content\n",
    "preguntar = True\n",
    "while preguntar:\n",
    "    pregunta = input(\"👤 Estudiante: \")\n",
    "    if pregunta.lower() in [\"salir\", \"exit\"]:\n",
    "        preguntar = False\n",
    "    else:\n",
    "        display(Markdown(\"**Estudiante:** \" + pregunta))\n",
    "        respuesta = generar_respuesta(pregunta)\n",
    "        display(Markdown(\"**Chatbot:** \" + respuesta))"
   ]
  }
 ],
 "metadata": {
  "kernelspec": {
   "display_name": ".venv",
   "language": "python",
   "name": "python3"
  },
  "language_info": {
   "codemirror_mode": {
    "name": "ipython",
    "version": 3
   },
   "file_extension": ".py",
   "mimetype": "text/x-python",
   "name": "python",
   "nbconvert_exporter": "python",
   "pygments_lexer": "ipython3",
   "version": "3.13.1"
  }
 },
 "nbformat": 4,
 "nbformat_minor": 5
}
