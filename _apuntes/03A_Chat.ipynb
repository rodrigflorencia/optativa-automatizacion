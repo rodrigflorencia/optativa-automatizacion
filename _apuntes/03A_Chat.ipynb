{
  "cells": [
    {
      "cell_type": "markdown",
      "metadata": {
        "id": "view-in-github",
        "colab_type": "text"
      },
      "source": [
        "<a href=\"https://colab.research.google.com/github/rodrigflorencia/optativa-automatizacion/blob/main/_apuntes/03A_Chat.ipynb\" target=\"_parent\"><img src=\"https://colab.research.google.com/assets/colab-badge.svg\" alt=\"Open In Colab\"/></a>"
      ]
    },
    {
      "cell_type": "markdown",
      "id": "082cb8a5",
      "metadata": {
        "id": "082cb8a5"
      },
      "source": [
        "## Chatbot con OpenAI API\n",
        "\n",
        "Imagina que tienes una plataforma educativa con múltiples cursos. Cada día recibes decenas de preguntas repetidas de los estudiantes:\n",
        "\n",
        "❓ \"¿Qué cursos de programación ofrecen?\"\n",
        "\n",
        "❓ \"¿Cómo puedo acceder a las clases grabadas?\"\n",
        "\n",
        "❓ \"¿Qué nivel de conocimiento necesito para el curso de Python?\"\n",
        "\n",
        "Tú o tu equipo educativo dedican horas cada semana a contestar las mismas preguntas. ¿Y si tuvieras un asistente virtual que pudiera responder al instante, 24/7, con información precisa y actualizada sobre los cursos?\n",
        "\n",
        "En esta parte de la clase vamos a ver cómo construir un sistema inteligente de forma básica que responde preguntas automáticamente, combinando dos ideas poderosas:\n",
        "\n",
        "🔹 Chatbots: interfaces conversacionales que entienden lenguaje natural.\n",
        "\n",
        "🔹 RAG (Retrieval-Augmented Generation): un enfoque moderno que permite que los modelos generativos como ChatGPT respondan con información extraída de tus propios documentos o base de conocimiento.\n",
        "\n",
        "Para lograr esto, crearemos una pequeña \"base de conocimiento\" con contenido educativo y la conectaremos a un modelo de lenguaje con capacidad de razonamiento. Así el chatbot no inventará respuestas, sino que buscará primero información relevante y luego generará una respuesta basada en ese contenido.\n",
        "\n",
        "Es como tener un asistente educativo virtual que conoce todos los cursos y puede guiar a los estudiantes de manera efectiva."
      ]
    },
    {
      "cell_type": "code",
      "execution_count": 1,
      "id": "dba7f109",
      "metadata": {
        "id": "dba7f109",
        "outputId": "6830c145-b11c-45df-92b0-82d1d2c66362",
        "colab": {
          "base_uri": "https://localhost:8080/"
        }
      },
      "outputs": [
        {
          "output_type": "stream",
          "name": "stdout",
          "text": [
            "\u001b[2K   \u001b[90m━━━━━━━━━━━━━━━━━━━━━━━━━━━━━━━━━━━━━━━━\u001b[0m \u001b[32m31.3/31.3 MB\u001b[0m \u001b[31m49.8 MB/s\u001b[0m eta \u001b[36m0:00:00\u001b[0m\n",
            "\u001b[?25h"
          ]
        }
      ],
      "source": [
        "%pip install openai faiss-cpu tiktoken scikit-learn --quiet"
      ]
    },
    {
      "cell_type": "code",
      "execution_count": 2,
      "id": "bfd80bf1",
      "metadata": {
        "id": "bfd80bf1",
        "outputId": "0bfc864d-42b4-4c8f-82c1-a3a42f16a2ca",
        "colab": {
          "base_uri": "https://localhost:8080/",
          "height": 372
        }
      },
      "outputs": [
        {
          "name": "stdout",
          "output_type": "stream",
          "text": [
            "👤 Estudiante: Hola!\n"
          ]
        },
        {
          "output_type": "display_data",
          "data": {
            "text/plain": [
              "<IPython.core.display.Markdown object>"
            ],
            "text/markdown": "**Estudiante:** Hola!"
          },
          "metadata": {}
        },
        {
          "output_type": "display_data",
          "data": {
            "text/plain": [
              "<IPython.core.display.Markdown object>"
            ],
            "text/markdown": "**Chatbot:** ¡Hola! ¿Cómo puedo ayudarte hoy?"
          },
          "metadata": {}
        },
        {
          "name": "stdout",
          "output_type": "stream",
          "text": [
            "👤 Estudiante: ¿Qué cursos tenes disponibles?\n"
          ]
        },
        {
          "output_type": "display_data",
          "data": {
            "text/plain": [
              "<IPython.core.display.Markdown object>"
            ],
            "text/markdown": "**Estudiante:** ¿Qué cursos tenes disponibles?"
          },
          "metadata": {}
        },
        {
          "output_type": "display_data",
          "data": {
            "text/plain": [
              "<IPython.core.display.Markdown object>"
            ],
            "text/markdown": "**Chatbot:** Actualmente ofrecemos los siguientes cursos:\n- Introducción a Python (Nivel Básico)\n- Machine Learning con Scikit-learn (Intermedio)\n- Desarrollo Web con Django (Avanzado)\n- Análisis de Datos con Pandas (Intermedio)\n- Fundamentos de JavaScript (Básico)\n- Desarrollo de Aplicaciones Móviles (Avanzado)"
          },
          "metadata": {}
        },
        {
          "name": "stdout",
          "output_type": "stream",
          "text": [
            "👤 Estudiante: Si quiero hacer el curso de Python, necesito algo en especial?\n"
          ]
        },
        {
          "output_type": "display_data",
          "data": {
            "text/plain": [
              "<IPython.core.display.Markdown object>"
            ],
            "text/markdown": "**Estudiante:** Si quiero hacer el curso de Python, necesito algo en especial?"
          },
          "metadata": {}
        },
        {
          "output_type": "display_data",
          "data": {
            "text/plain": [
              "<IPython.core.display.Markdown object>"
            ],
            "text/markdown": "**Chatbot:** Para realizar el curso de Python, necesitas tener conocimientos básicos de informática y una actitud positiva hacia el aprendizaje. No se requiere experiencia previa en programación. Además, es recomendable que tengas instalado Python 3.8 o una versión superior en tu computadora."
          },
          "metadata": {}
        },
        {
          "name": "stdout",
          "output_type": "stream",
          "text": [
            "👤 Estudiante: salir\n"
          ]
        }
      ],
      "source": [
        "from IPython.display import Markdown\n",
        "from openai import OpenAI\n",
        "from google.colab import userdata\n",
        "\n",
        "api_key = userdata.get('OPEN_AI_KEY')\n",
        "client = OpenAI(api_key=api_key)\n",
        "\n",
        "documentos = [\n",
        "    {\n",
        "        \"id\": \"faq_cursos_disponibles\",\n",
        "        \"texto\": \"\"\"¿Qué cursos de programación ofrecen?\n",
        "          Actualmente ofrecemos los siguientes cursos:\n",
        "          - Introducción a Python (Nivel Básico)\n",
        "          - Machine Learning con Scikit-learn (Intermedio)\n",
        "          - Desarrollo Web con Django (Avanzado)\n",
        "          - Análisis de Datos con Pandas (Intermedio)\n",
        "          - Fundamentos de JavaScript (Básico)\n",
        "          - Desarrollo de Aplicaciones Móviles (Avanzado)\"\"\"\n",
        "    },\n",
        "    {\n",
        "        \"id\": \"faq_acceso_clases\",\n",
        "        \"texto\": \"\"\"¿Cómo puedo acceder a las clases grabadas?\n",
        "Una vez que te inscribas en un curso, tendrás acceso inmediato a nuestra plataforma de aprendizaje. Todas las clases grabadas están disponibles en la sección 'Mis Cursos' de tu perfil. Las grabaciones se publican 24 horas después de cada clase en vivo.\"\"\"\n",
        "    },\n",
        "    {\n",
        "        \"id\": \"faq_contacto\",\n",
        "        \"texto\": \"\"\"¿Cómo puedo contactar con atención al cliente?\n",
        "Nuestro equipo está disponible de lunes a viernes, de 9:00 a 18:00.\n",
        "Puedes escribirnos a soporte@miempresa.com o enviarnos un mensaje directo por Instagram (@miempresa).\"\"\"\n",
        "    },\n",
        "    {\n",
        "        \"id\": \"faq_requisitos_tecnicos\",\n",
        "        \"texto\": \"\"\"¿Qué necesito para el curso de Python?\n",
        "Para el curso de Introducción a Python solo necesitas tener conocimientos básicos de informática y muchas ganas de aprender. No se requiere experiencia previa en programación. Te recomendamos tener instalado Python 3.8 o superior en tu computadora.\"\"\"\n",
        "    },\n",
        "    {\n",
        "        \"id\": \"faq_clases_en_vivo\",\n",
        "        \"texto\": \"\"\"¿Hay clases en vivo o todo es grabado?\n",
        "Nuestros cursos incluyen tanto clases en vivo como material grabado. Las clases en vivo se realizan dos veces por semana y quedan grabadas para que puedas verlas después. También tendrás acceso a ejercicios prácticos, foros de discusión y soporte de instructores.\"\"\"\n",
        "    }\n",
        "]\n",
        "\n",
        "from sklearn.feature_extraction.text import TfidfVectorizer\n",
        "import numpy as np\n",
        "import faiss\n",
        "\n",
        "# Extraer los textos de la lista de documentos\n",
        "corpus = [doc[\"texto\"] for doc in documentos]\n",
        "\n",
        "# Vectorizar con TF-IDF\n",
        "vectorizer = TfidfVectorizer()\n",
        "doc_vectors = vectorizer.fit_transform(corpus).toarray()\n",
        "\n",
        "# Crear el índice FAISS\n",
        "index = faiss.IndexFlatL2(doc_vectors.shape[1])\n",
        "index.add(np.array(doc_vectors).astype('float32'))\n",
        "\n",
        "# print(\"Índice FAISS creado con éxito. Número de documentos indexados:\", index.ntotal)\n",
        "\n",
        "def recuperar_contexto(pregunta, k=1):\n",
        "    pregunta_vec = vectorizer.transform([pregunta]).toarray().astype('float32')\n",
        "    D, I = index.search(pregunta_vec, k)\n",
        "    textos = [corpus[i] for i in I[0]]\n",
        "    return \"\\n\\n\".join(textos)\n",
        "\n",
        "def generar_respuesta(pregunta):\n",
        "    contexto = recuperar_contexto(pregunta)\n",
        "\n",
        "    prompt = f\"\"\"\n",
        "      Eres un chatbot de asistencia para una plataforma educativa\n",
        "      para responder preguntas frecuentes.\n",
        "      Responde a la siguiente pregunta\n",
        "      utilizando el contexto proporcionado si es relevante.\n",
        "      Si no tienes contexto suficiente, dame una respuesta que sea válida.\n",
        "\n",
        "      Contexto:\n",
        "      {contexto}\n",
        "\n",
        "      Pregunta: {pregunta}\n",
        "      Respuesta:\n",
        "    \"\"\"\n",
        "\n",
        "    respuesta = client.chat.completions.create(\n",
        "        model=\"gpt-4\",\n",
        "        messages=[{\"role\": \"user\", \"content\": prompt}],\n",
        "        temperature=0.3\n",
        "    )\n",
        "\n",
        "    return respuesta.choices[0].message.content\n",
        "preguntar = True\n",
        "while preguntar:\n",
        "    pregunta = input(\"👤 Estudiante: \")\n",
        "    if pregunta.lower() in [\"salir\", \"exit\"]:\n",
        "        preguntar = False\n",
        "    else:\n",
        "        display(Markdown(\"**Estudiante:** \" + pregunta))\n",
        "        respuesta = generar_respuesta(pregunta)\n",
        "        display(Markdown(\"**Chatbot:** \" + respuesta))"
      ]
    }
  ],
  "metadata": {
    "kernelspec": {
      "display_name": ".venv",
      "language": "python",
      "name": "python3"
    },
    "language_info": {
      "codemirror_mode": {
        "name": "ipython",
        "version": 3
      },
      "file_extension": ".py",
      "mimetype": "text/x-python",
      "name": "python",
      "nbconvert_exporter": "python",
      "pygments_lexer": "ipython3",
      "version": "3.13.1"
    },
    "colab": {
      "provenance": [],
      "include_colab_link": true
    }
  },
  "nbformat": 4,
  "nbformat_minor": 5
}