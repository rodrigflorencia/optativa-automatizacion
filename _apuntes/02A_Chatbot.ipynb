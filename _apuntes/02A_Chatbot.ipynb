{
 "cells": [
  {
   "cell_type": "markdown",
   "id": "b078f2a1",
   "metadata": {},
   "source": [
    "# Chatbots\n",
    "\n",
    "Un **chatbot** es un sistema de software que simula una conversación con un humano. Los chatbots pueden estar basados en reglas simples o en IA (modelos de lenguaje).\n",
    "\n",
    "*Ejemplo aplicado:* un mercado puede tener un chatbot para consultas frecuentes (horarios, seguimiento de pedidos). A continuación, un ejemplo básico (en Python) de un chatbot por reglas:"
   ]
  },
  {
   "cell_type": "code",
   "execution_count": 1,
   "id": "784b493d",
   "metadata": {},
   "outputs": [],
   "source": [
    "def chatbot_respuesta(pregunta):\n",
    "    pregunta = pregunta.lower()\n",
    "    if 'hola' in pregunta:\n",
    "        return '¡Hola! ¿En qué puedo ayudarte?'\n",
    "    elif 'precio' in pregunta:\n",
    "        return 'Tenemos varios productos con diferentes precios. ¿Te interesa alguno en particular?'\n",
    "    elif 'adiós' in pregunta or 'gracias' in pregunta:\n",
    "        return '¡Gracias a ti! Hasta pronto.'\n",
    "    else:\n",
    "        return 'Lo siento, no entiendo tu pregunta. ¿Puedes reformularla?'"
   ]
  },
  {
   "cell_type": "markdown",
   "id": "13b99aeb",
   "metadata": {},
   "source": [
    "Prueba del chatbot"
   ]
  },
  {
   "cell_type": "code",
   "execution_count": 2,
   "id": "283d9f97",
   "metadata": {},
   "outputs": [
    {
     "name": "stdout",
     "output_type": "stream",
     "text": [
      "Tenemos varios productos con diferentes precios. ¿Te interesa alguno en particular?\n"
     ]
    }
   ],
   "source": [
    "print(chatbot_respuesta(\"¿Cuál es el precio del producto?\"))"
   ]
  },
  {
   "cell_type": "markdown",
   "id": "a364d7dd",
   "metadata": {},
   "source": [
    "Con este ejemplo ves cómo condicionamos la respuesta según palabras clave. En la práctica, los chatbots avanzados usan IA (p.ej. GPT) para entender el lenguaje natural y generar respuestas más complejas."
   ]
  },
  {
   "cell_type": "markdown",
   "id": "d2c74d5c",
   "metadata": {},
   "source": [
    "## RAG (Retrieval-Augmented Generation)\n",
    "\n",
    "RAG combina recuperación de información con generación de texto. Primero busca en una base de datos o documentos la información relevante (recuperación), luego genera la respuesta usando esa información. Esto evita que el modelo “inventa” datos. \n",
    "\n",
    "Ejemplo: el usuario pregunta “¿Qué cursos de **informática** tienes disponibles?”. El sistema busca en una base de conocimientos los cursos con la palabra “informática” y luego genera una respuesta basada en esa lista. \n",
    "\n",
    "En código:"
   ]
  },
  {
   "cell_type": "code",
   "execution_count": 3,
   "id": "5968deae",
   "metadata": {},
   "outputs": [],
   "source": [
    "# Base de conocimientos ficticia\n",
    "base_datos1_ = {\n",
    "    'cursos': [\n",
    "        'Introducción a Python - Nivel Básico',\n",
    "        'Machine Learning con Scikit-learn - Nivel Intermedio',\n",
    "        'Desarrollo Web con Django - Nivel Avanzado',\n",
    "        'Análisis de Datos con Pandas - Nivel Intermedio'\n",
    "    ]\n",
    "}\n",
    "\n",
    "def responder_con_rag(pregunta):\n",
    "    if 'curso' in pregunta.lower() or 'cursos' in pregunta.lower():\n",
    "        cursos = '\\n- '.join(base_datos1_['cursos'])\n",
    "        return f\"Tenemos los siguientes cursos disponibles:\\n- {cursos}\"\n",
    "    elif 'básico' in pregunta.lower():\n",
    "        return \"Nuestro curso de nivel básico es: Introducción a Python\"\n",
    "    elif 'avanzado' in pregunta.lower():\n",
    "        return \"Nuestro curso de nivel avanzado es: Desarrollo Web con Django\"\n",
    "    else:\n",
    "        return \"¿Te gustaría información sobre nuestros cursos? Puedo mostrarte lo que ofrecemos.\""
   ]
  },
  {
   "cell_type": "markdown",
   "id": "a2e251f7",
   "metadata": {},
   "source": [
    "Prueba del flujo RAG"
   ]
  },
  {
   "cell_type": "code",
   "execution_count": 4,
   "id": "3f726d05",
   "metadata": {},
   "outputs": [
    {
     "name": "stdout",
     "output_type": "stream",
     "text": [
      "Tenemos los siguientes cursos disponibles:\n",
      "- Introducción a Python - Nivel Básico\n",
      "- Machine Learning con Scikit-learn - Nivel Intermedio\n",
      "- Desarrollo Web con Django - Nivel Avanzado\n",
      "- Análisis de Datos con Pandas - Nivel Intermedio\n"
     ]
    }
   ],
   "source": [
    "print(responder_con_rag(\"¿Qué cursos tienes disponibles?\"))"
   ]
  },
  {
   "cell_type": "markdown",
   "id": "405ebf5d",
   "metadata": {},
   "source": [
    "Este ejemplo ilustrativo muestra el flujo: primero filtramos los datos relevantes, luego completamos la respuesta. En un sistema real, usaríamos técnicas de vectorización (TF-IDF, embeddings) y bibliotecas como FAISS para manejar bases más grandes.\n",
    "\n",
    "Ejemplo avanzado"
   ]
  },
  {
   "cell_type": "code",
   "execution_count": 5,
   "id": "e2c8ce56",
   "metadata": {},
   "outputs": [],
   "source": [
    "class BibliotecaChatbot:\n",
    "    def __init__(self):\n",
    "        self.base_datos = {\n",
    "            'libros': {\n",
    "                'ciencia_ficcion': [\n",
    "                    'Dune - Frank Herbert',\n",
    "                    'Fundación - Isaac Asimov',\n",
    "                    '1984 - George Orwell'\n",
    "                ],\n",
    "                'fantasia': [\n",
    "                    'El Señor de los Anillos - J.R.R. Tolkien',\n",
    "                    'Harry Potter - J.K. Rowling',\n",
    "                    'Juego de Tronos - George R.R. Martin'\n",
    "                ],\n",
    "                'no_ficcion': [\n",
    "                    'Sapiens - Yuval Noah Harari',\n",
    "                    'El poder del ahora - Eckhart Tolle'\n",
    "                ]\n",
    "            },\n",
    "            'prestamos': {}\n",
    "        }\n",
    "\n",
    "    def buscar_libros(self, genero=None):\n",
    "        if genero and genero in self.base_datos['libros']:\n",
    "            return self.base_datos['libros'][genero]\n",
    "        return [libro for sublist in self.base_datos['libros'].values() for libro in sublist]\n",
    "\n",
    "    def responder(self, pregunta):\n",
    "        pregunta = pregunta.lower()\n",
    "        \n",
    "        if 'hola' in pregunta or 'buenos días' in pregunta:\n",
    "            return \"¡Hola! Soy el asistente de la biblioteca. ¿En qué puedo ayudarte hoy?\"\n",
    "            \n",
    "        elif 'libros' in pregunta or 'tienes' in pregunta:\n",
    "            if 'ciencia ficción' in pregunta:\n",
    "                libros = self.buscar_libros('ciencia_ficcion')\n",
    "                return \"Libros de ciencia ficción disponibles:\\n- \" + \"\\n- \".join(libros)\n",
    "            elif 'fantasía' in pregunta:\n",
    "                libros = self.buscar_libros('fantasia')\n",
    "                return \"Libros de fantasía disponibles:\\n- \" + \"\\n- \".join(libros)\n",
    "            else:\n",
    "                return \"¿Qué género de libros te interesa? Tenemos ciencia ficción, fantasía y no ficción.\"\n",
    "                \n",
    "        elif 'prestar' in pregunta or 'solicitar' in pregunta:\n",
    "            return \"Para prestar un libro, por favor indícame el título exacto.\"\n",
    "            \n",
    "        elif 'horario' in pregunta or 'abierto' in pregunta:\n",
    "            return \"La biblioteca está abierta de lunes a viernes de 9:00 a 20:00, y sábados de 10:00 a 14:00.\"\n",
    "            \n",
    "        return \"Lo siento, no entendí tu pregunta. ¿Podrías reformularla?\""
   ]
  },
  {
   "cell_type": "markdown",
   "id": "6a1f08f3",
   "metadata": {},
   "source": [
    "Ejemplo de uso"
   ]
  },
  {
   "cell_type": "code",
   "execution_count": 9,
   "id": "72fd1f22",
   "metadata": {},
   "outputs": [
    {
     "name": "stdout",
     "output_type": "stream",
     "text": [
      "Libros de ciencia ficción disponibles:\n",
      "- Dune - Frank Herbert\n",
      "- Fundación - Isaac Asimov\n",
      "- 1984 - George Orwell\n",
      "La biblioteca está abierta de lunes a viernes de 9:00 a 20:00, y sábados de 10:00 a 14:00.\n"
     ]
    }
   ],
   "source": [
    "if __name__ == \"__main__\":\n",
    "    chatbot = BibliotecaChatbot()\n",
    "    print(chatbot.responder(\"¿qué libros de ciencia ficción tienes?\"))\n",
    "    print(chatbot.responder(\"¿qué horario tiene la biblioteca?\"))"
   ]
  },
  {
   "cell_type": "markdown",
   "id": "257e798d",
   "metadata": {},
   "source": [
    "### Actividades prácticas\n",
    "\n",
    "1 - Chatbot básico: Implementa un chatbot simple (como el de arriba) en Python o en un servicio No-Code (p.ej. Chatfuel). Prueba varios saludos y preguntas para ajustar las respuestas.\n",
    "\n",
    "2 - Experimentar con *prompts*: Ingresa a ChatGPT (o modelo similar) y formula prompts más vagos y más elaborados. Por ejemplo, compara preguntar “Cuenta un chiste” vs. “Cuenta un chiste breve sobre programación”. Observa cómo cambia la respuesta.\n",
    "\n",
    "3 - Simular RAG: Selecciona tres textos (pueden ser artículos o párrafos) y guárdalos. Luego, planteate una pregunta cuyas palabras clave estén en esos textos. Intenta primero buscar manualmente cuál texto responde mejor, luego genera la respuesta como el código de ejemplo. Analiza la diferencia entre inventar una respuesta vs. basarse en la búsqueda."
   ]
  }
 ],
 "metadata": {
  "kernelspec": {
   "display_name": ".venv",
   "language": "python",
   "name": "python3"
  },
  "language_info": {
   "codemirror_mode": {
    "name": "ipython",
    "version": 3
   },
   "file_extension": ".py",
   "mimetype": "text/x-python",
   "name": "python",
   "nbconvert_exporter": "python",
   "pygments_lexer": "ipython3",
   "version": "3.13.1"
  }
 },
 "nbformat": 4,
 "nbformat_minor": 5
}
